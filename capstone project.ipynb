{
 "cells": [
  {
   "cell_type": "markdown",
   "metadata": {},
   "source": [
    "# Capstone Project: Where are you most likely to find a specific kind of venue in Paris ?\n",
    "\n",
    "## 1. Introduction to the Problem\n",
    "\n",
    "For this project, I've chosen to study **venues in Paris** and in which **arrondissement** they are most likely to appear. For instance, if you're a italian tourist in Paris, and craving for those italian pastas you miss so much. You might then wonder in which neighborhood you should head to in order to find what you're looking for.  \n",
    "  \n",
    "Another application could be that you have the project of opening a museum. You might want to know in which neighborhood you're the most likely to find other museums and match the demand there.\n",
    "\n",
    "The **target** can be then very wide : from citizens looking for a place to a professional trying to start a business\n",
    "\n",
    "## 2. The data\n",
    "\n",
    "I will need two sources of datas for this project\n",
    "* I will need the list of neighborhoods of Paris, which I can find on the [data.gouv website](https://www.data.gouv.fr/fr/datasets/r/4765fe48-35fd-4536-b029-4727380ce23c)\n",
    "* I will then need to extract the venues of the different neighborhoods in Paris through the Foursquare API\n",
    "\n",
    "## 3. Methodology : Classification\n",
    "\n",
    "I will then do a **Decision Tree** to look for classification in those neighborhoods. \n",
    "The data will be split into a training and a testing data set and the best depth maximum will be chosen in order to maximise the accuracy.\n",
    "The variables explaining the data set will be a one hot encoding of the types of venues and the variable to be explained will be the the neighborhood.  \n",
    "\n",
    "\n",
    "## 4. Results\n",
    "I will then be able to predict in which neighborhood you're the most likely to find a specific kind of place. The results are then plotted on a map of Paris : the type of venue and the corresponding neighborhood.\n",
    "\n",
    "## 5. Discussion\n",
    "This part will be developped at the end of the notebook\n",
    "\n",
    "## 6. Conclusion\n",
    "This part will be developped at the end of the notebook  "
   ]
  },
  {
   "cell_type": "code",
   "execution_count": 1,
   "metadata": {
    "collapsed": true
   },
   "outputs": [
    {
     "name": "stdout",
     "output_type": "stream",
     "text": [
      "Collecting folium\n",
      "\u001b[?25l  Downloading https://files.pythonhosted.org/packages/fd/a0/ccb3094026649cda4acd55bf2c3822bb8c277eb11446d13d384e5be35257/folium-0.10.1-py2.py3-none-any.whl (91kB)\n",
      "\u001b[K     |████████████████████████████████| 92kB 12.3MB/s eta 0:00:01\n",
      "\u001b[?25hRequirement already satisfied: numpy in /opt/conda/envs/Python36/lib/python3.6/site-packages (from folium) (1.15.4)\n",
      "Requirement already satisfied: requests in /opt/conda/envs/Python36/lib/python3.6/site-packages (from folium) (2.21.0)\n",
      "Collecting branca>=0.3.0 (from folium)\n",
      "  Downloading https://files.pythonhosted.org/packages/63/36/1c93318e9653f4e414a2e0c3b98fc898b4970e939afeedeee6075dd3b703/branca-0.3.1-py3-none-any.whl\n",
      "Requirement already satisfied: jinja2>=2.9 in /opt/conda/envs/Python36/lib/python3.6/site-packages (from folium) (2.10)\n",
      "Requirement already satisfied: chardet<3.1.0,>=3.0.2 in /opt/conda/envs/Python36/lib/python3.6/site-packages (from requests->folium) (3.0.4)\n",
      "Requirement already satisfied: certifi>=2017.4.17 in /opt/conda/envs/Python36/lib/python3.6/site-packages (from requests->folium) (2019.11.28)\n",
      "Requirement already satisfied: urllib3<1.25,>=1.21.1 in /opt/conda/envs/Python36/lib/python3.6/site-packages (from requests->folium) (1.24.1)\n",
      "Requirement already satisfied: idna<2.9,>=2.5 in /opt/conda/envs/Python36/lib/python3.6/site-packages (from requests->folium) (2.8)\n",
      "Requirement already satisfied: six in /opt/conda/envs/Python36/lib/python3.6/site-packages (from branca>=0.3.0->folium) (1.12.0)\n",
      "Requirement already satisfied: MarkupSafe>=0.23 in /opt/conda/envs/Python36/lib/python3.6/site-packages (from jinja2>=2.9->folium) (1.1.0)\n",
      "Installing collected packages: branca, folium\n",
      "Successfully installed branca-0.3.1 folium-0.10.1\n"
     ]
    }
   ],
   "source": [
    "!pip install folium"
   ]
  },
  {
   "cell_type": "code",
   "execution_count": 24,
   "metadata": {},
   "outputs": [],
   "source": [
    "import pandas as pd\n",
    "import numpy as np\n",
    "import json\n",
    "import folium\n",
    "import requests\n",
    "from geopy.geocoders import Nominatim\n",
    "from sklearn.cluster import KMeans\n",
    "import matplotlib.cm as cm\n",
    "import matplotlib.colors as colors"
   ]
  },
  {
   "cell_type": "markdown",
   "metadata": {},
   "source": [
    "Let's get started\n",
    "\n",
    "## 2.The data\n",
    "### Get the list of Paris Neighborhoods\n",
    "\n",
    "We here download the list of neighborhoods of Paris on the data.gouv website as a json file."
   ]
  },
  {
   "cell_type": "code",
   "execution_count": 3,
   "metadata": {},
   "outputs": [
    {
     "name": "stdout",
     "output_type": "stream",
     "text": [
      "Data downloaded!\n"
     ]
    }
   ],
   "source": [
    "!wget -q -O 'paris_data.json' https://www.data.gouv.fr/fr/datasets/r/4765fe48-35fd-4536-b029-4727380ce23c\n",
    "print('Data downloaded!')"
   ]
  },
  {
   "cell_type": "code",
   "execution_count": 4,
   "metadata": {},
   "outputs": [],
   "source": [
    "with open('paris_data.json') as json_data:\n",
    "    paris_data = json.load(json_data)"
   ]
  },
  {
   "cell_type": "markdown",
   "metadata": {},
   "source": [
    "Extract the \"features\" part of the json file, which is the part where the data is located"
   ]
  },
  {
   "cell_type": "code",
   "execution_count": 5,
   "metadata": {},
   "outputs": [],
   "source": [
    "#extract the part where the data is\n",
    "arr_data = paris_data['features']"
   ]
  },
  {
   "cell_type": "markdown",
   "metadata": {},
   "source": [
    "We now need to transform this data into a DataFrame"
   ]
  },
  {
   "cell_type": "code",
   "execution_count": 6,
   "metadata": {},
   "outputs": [],
   "source": [
    "# define the dataframe columns\n",
    "column_names = ['Arrondissement', 'Latitude', 'Longitude'] \n",
    "\n",
    "# instantiate the dataframe\n",
    "arr = pd.DataFrame(columns=column_names)\n",
    "\n",
    "for data in arr_data:\n",
    "    arrondissement = data['properties']['l_aroff']\n",
    "        \n",
    "    neighborhood_latlon = data['properties']['geom_x_y']\n",
    "    latitude = neighborhood_latlon[0]\n",
    "    longitude = neighborhood_latlon[1]\n",
    "    \n",
    "    arr = arr.append({'Arrondissement': arrondissement,\n",
    "                                          'Latitude': latitude,\n",
    "                                          'Longitude': longitude}, ignore_index=True)"
   ]
  },
  {
   "cell_type": "code",
   "execution_count": 7,
   "metadata": {},
   "outputs": [
    {
     "data": {
      "text/html": [
       "<div>\n",
       "<style scoped>\n",
       "    .dataframe tbody tr th:only-of-type {\n",
       "        vertical-align: middle;\n",
       "    }\n",
       "\n",
       "    .dataframe tbody tr th {\n",
       "        vertical-align: top;\n",
       "    }\n",
       "\n",
       "    .dataframe thead th {\n",
       "        text-align: right;\n",
       "    }\n",
       "</style>\n",
       "<table border=\"1\" class=\"dataframe\">\n",
       "  <thead>\n",
       "    <tr style=\"text-align: right;\">\n",
       "      <th></th>\n",
       "      <th>Arrondissement</th>\n",
       "      <th>Latitude</th>\n",
       "      <th>Longitude</th>\n",
       "    </tr>\n",
       "  </thead>\n",
       "  <tbody>\n",
       "    <tr>\n",
       "      <th>0</th>\n",
       "      <td>Observatoire</td>\n",
       "      <td>48.829245</td>\n",
       "      <td>2.326542</td>\n",
       "    </tr>\n",
       "    <tr>\n",
       "      <th>1</th>\n",
       "      <td>Popincourt</td>\n",
       "      <td>48.859059</td>\n",
       "      <td>2.380058</td>\n",
       "    </tr>\n",
       "    <tr>\n",
       "      <th>2</th>\n",
       "      <td>Temple</td>\n",
       "      <td>48.862872</td>\n",
       "      <td>2.360001</td>\n",
       "    </tr>\n",
       "    <tr>\n",
       "      <th>3</th>\n",
       "      <td>Louvre</td>\n",
       "      <td>48.862563</td>\n",
       "      <td>2.336443</td>\n",
       "    </tr>\n",
       "    <tr>\n",
       "      <th>4</th>\n",
       "      <td>Entrepôt</td>\n",
       "      <td>48.876130</td>\n",
       "      <td>2.360728</td>\n",
       "    </tr>\n",
       "    <tr>\n",
       "      <th>5</th>\n",
       "      <td>Vaugirard</td>\n",
       "      <td>48.840085</td>\n",
       "      <td>2.292826</td>\n",
       "    </tr>\n",
       "    <tr>\n",
       "      <th>6</th>\n",
       "      <td>Bourse</td>\n",
       "      <td>48.868279</td>\n",
       "      <td>2.342803</td>\n",
       "    </tr>\n",
       "    <tr>\n",
       "      <th>7</th>\n",
       "      <td>Hôtel-de-Ville</td>\n",
       "      <td>48.854341</td>\n",
       "      <td>2.357630</td>\n",
       "    </tr>\n",
       "    <tr>\n",
       "      <th>8</th>\n",
       "      <td>Batignolles-Monceau</td>\n",
       "      <td>48.887327</td>\n",
       "      <td>2.306777</td>\n",
       "    </tr>\n",
       "    <tr>\n",
       "      <th>9</th>\n",
       "      <td>Buttes-Montmartre</td>\n",
       "      <td>48.892569</td>\n",
       "      <td>2.348161</td>\n",
       "    </tr>\n",
       "    <tr>\n",
       "      <th>10</th>\n",
       "      <td>Élysée</td>\n",
       "      <td>48.872721</td>\n",
       "      <td>2.312554</td>\n",
       "    </tr>\n",
       "    <tr>\n",
       "      <th>11</th>\n",
       "      <td>Opéra</td>\n",
       "      <td>48.877164</td>\n",
       "      <td>2.337458</td>\n",
       "    </tr>\n",
       "    <tr>\n",
       "      <th>12</th>\n",
       "      <td>Gobelins</td>\n",
       "      <td>48.828388</td>\n",
       "      <td>2.362272</td>\n",
       "    </tr>\n",
       "    <tr>\n",
       "      <th>13</th>\n",
       "      <td>Luxembourg</td>\n",
       "      <td>48.849130</td>\n",
       "      <td>2.332898</td>\n",
       "    </tr>\n",
       "    <tr>\n",
       "      <th>14</th>\n",
       "      <td>Buttes-Chaumont</td>\n",
       "      <td>48.887076</td>\n",
       "      <td>2.384821</td>\n",
       "    </tr>\n",
       "    <tr>\n",
       "      <th>15</th>\n",
       "      <td>Panthéon</td>\n",
       "      <td>48.844443</td>\n",
       "      <td>2.350715</td>\n",
       "    </tr>\n",
       "    <tr>\n",
       "      <th>16</th>\n",
       "      <td>Palais-Bourbon</td>\n",
       "      <td>48.856174</td>\n",
       "      <td>2.312188</td>\n",
       "    </tr>\n",
       "    <tr>\n",
       "      <th>17</th>\n",
       "      <td>Ménilmontant</td>\n",
       "      <td>48.863461</td>\n",
       "      <td>2.401188</td>\n",
       "    </tr>\n",
       "    <tr>\n",
       "      <th>18</th>\n",
       "      <td>Passy</td>\n",
       "      <td>48.860392</td>\n",
       "      <td>2.261971</td>\n",
       "    </tr>\n",
       "    <tr>\n",
       "      <th>19</th>\n",
       "      <td>Reuilly</td>\n",
       "      <td>48.834974</td>\n",
       "      <td>2.421325</td>\n",
       "    </tr>\n",
       "  </tbody>\n",
       "</table>\n",
       "</div>"
      ],
      "text/plain": [
       "         Arrondissement   Latitude  Longitude\n",
       "0          Observatoire  48.829245   2.326542\n",
       "1            Popincourt  48.859059   2.380058\n",
       "2                Temple  48.862872   2.360001\n",
       "3                Louvre  48.862563   2.336443\n",
       "4              Entrepôt  48.876130   2.360728\n",
       "5             Vaugirard  48.840085   2.292826\n",
       "6                Bourse  48.868279   2.342803\n",
       "7        Hôtel-de-Ville  48.854341   2.357630\n",
       "8   Batignolles-Monceau  48.887327   2.306777\n",
       "9     Buttes-Montmartre  48.892569   2.348161\n",
       "10               Élysée  48.872721   2.312554\n",
       "11                Opéra  48.877164   2.337458\n",
       "12             Gobelins  48.828388   2.362272\n",
       "13           Luxembourg  48.849130   2.332898\n",
       "14      Buttes-Chaumont  48.887076   2.384821\n",
       "15             Panthéon  48.844443   2.350715\n",
       "16       Palais-Bourbon  48.856174   2.312188\n",
       "17         Ménilmontant  48.863461   2.401188\n",
       "18                Passy  48.860392   2.261971\n",
       "19              Reuilly  48.834974   2.421325"
      ]
     },
     "execution_count": 7,
     "metadata": {},
     "output_type": "execute_result"
    }
   ],
   "source": [
    "arr"
   ]
  },
  {
   "cell_type": "code",
   "execution_count": 8,
   "metadata": {},
   "outputs": [
    {
     "name": "stdout",
     "output_type": "stream",
     "text": [
      "There are indeed 20 arrondissement in Paris\n"
     ]
    }
   ],
   "source": [
    "print('There are indeed {} arrondissement in Paris'.format(arr.shape[0]))"
   ]
  },
  {
   "cell_type": "markdown",
   "metadata": {},
   "source": [
    "### Map of Paris and its neighborhoods\n",
    "\n",
    "We now plot the map of Paris and its arrondissements to have an overview.\n",
    "We first get the coordinates of Paris and then add the markers"
   ]
  },
  {
   "cell_type": "code",
   "execution_count": 10,
   "metadata": {},
   "outputs": [
    {
     "name": "stdout",
     "output_type": "stream",
     "text": [
      "The geograpical coordinate of Paris are 48.8349743815, 2.42132490078.\n"
     ]
    }
   ],
   "source": [
    "address = 'Paris'\n",
    "\n",
    "geolocator = Nominatim(user_agent=\"paris_explorer\")\n",
    "location = geolocator.geocode(address)\n",
    "paris_latitude = location.latitude\n",
    "paris_longitude = location.longitude\n",
    "print('The geograpical coordinate of Paris are {}, {}.'.format(latitude, longitude))"
   ]
  },
  {
   "cell_type": "code",
   "execution_count": 25,
   "metadata": {},
   "outputs": [
    {
     "data": {
      "text/html": [
       "<div style=\"width:100%;\"><div style=\"position:relative;width:100%;height:0;padding-bottom:60%;\"><iframe src=\"data:text/html;charset=utf-8;base64,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\" style=\"position:absolute;width:100%;height:100%;left:0;top:0;border:none !important;\" allowfullscreen webkitallowfullscreen mozallowfullscreen></iframe></div></div>"
      ],
      "text/plain": [
       "<folium.folium.Map at 0x7f175a97c978>"
      ]
     },
     "execution_count": 25,
     "metadata": {},
     "output_type": "execute_result"
    }
   ],
   "source": [
    "# create map of Paris using latitude and longitude values\n",
    "map_paris = folium.Map(location=[paris_latitude, paris_longitude], zoom_start=12)\n",
    "\n",
    "# add markers to map\n",
    "for lat, lng, arrondissement in zip(arr['Latitude'], arr['Longitude'], arr['Arrondissement']):\n",
    "    label = '{}'.format(arrondissement)\n",
    "    label = folium.Popup(label, parse_html=True)\n",
    "    folium.CircleMarker(\n",
    "        [lat, lng],\n",
    "        radius=5,\n",
    "        popup=label,\n",
    "        color='blue',\n",
    "        fill=True,\n",
    "        fill_color='#3186cc',\n",
    "        fill_opacity=0.7,\n",
    "        parse_html=False).add_to(map_paris)  \n",
    "    \n",
    "map_paris"
   ]
  },
  {
   "cell_type": "markdown",
   "metadata": {},
   "source": [
    "### Get venues from Foursquare\n",
    "\n",
    "Now that we have data about the neighborhoods, we investgate the venues that populate them.  \n",
    "We first enter my credentials and then define a function that exracts the venues for each neighborhoods"
   ]
  },
  {
   "cell_type": "code",
   "execution_count": 14,
   "metadata": {},
   "outputs": [
    {
     "name": "stdout",
     "output_type": "stream",
     "text": [
      "Your credentails:\n",
      "CLIENT_ID: KHP2ALXRH4ZO0AFY0Y2T2DIA1A5F1U5KYJOBUWSNPAFFCQU0\n",
      "CLIENT_SECRET:YV35030ASPVOMQ4PLSID0BIPU2AUC1XUB3RMFCFNOKYSUGD1\n"
     ]
    }
   ],
   "source": [
    "CLIENT_ID = 'KHP2ALXRH4ZO0AFY0Y2T2DIA1A5F1U5KYJOBUWSNPAFFCQU0' # your Foursquare ID\n",
    "CLIENT_SECRET = 'YV35030ASPVOMQ4PLSID0BIPU2AUC1XUB3RMFCFNOKYSUGD1' # your Foursquare Secret\n",
    "VERSION = '20180605' # Foursquare API version\n",
    "\n",
    "print('Your credentails:')\n",
    "print('CLIENT_ID: ' + CLIENT_ID)\n",
    "print('CLIENT_SECRET:' + CLIENT_SECRET)"
   ]
  },
  {
   "cell_type": "code",
   "execution_count": 15,
   "metadata": {},
   "outputs": [],
   "source": [
    "def getNearbyVenues(names, latitudes, longitudes, radius=500):\n",
    "    \n",
    "    venues_list=[]\n",
    "    for name, lat, lng in zip(names, latitudes, longitudes):\n",
    "        print(name)\n",
    "            \n",
    "        # create the API request URL\n",
    "        url = 'https://api.foursquare.com/v2/venues/explore?&client_id={}&client_secret={}&v={}&ll={},{}&radius={}&limit={}'.format(\n",
    "            CLIENT_ID, \n",
    "            CLIENT_SECRET, \n",
    "            VERSION, \n",
    "            lat, \n",
    "            lng, \n",
    "            radius, \n",
    "            LIMIT)\n",
    "            \n",
    "        # make the GET request\n",
    "        results = requests.get(url).json()[\"response\"]['groups'][0]['items']\n",
    "        \n",
    "        # return only relevant information for each nearby venue\n",
    "        venues_list.append([(\n",
    "            name, \n",
    "            lat, \n",
    "            lng, \n",
    "            v['venue']['name'], \n",
    "            v['venue']['location']['lat'], \n",
    "            v['venue']['location']['lng'],  \n",
    "            v['venue']['categories'][0]['name']) for v in results])\n",
    "\n",
    "    nearby_venues = pd.DataFrame([item for venue_list in venues_list for item in venue_list])\n",
    "    nearby_venues.columns = ['Neighborhood', \n",
    "                  'Neighborhood Latitude', \n",
    "                  'Neighborhood Longitude', \n",
    "                  'Venue', \n",
    "                  'Venue Latitude', \n",
    "                  'Venue Longitude', \n",
    "                  'Venue Category']\n",
    "    \n",
    "    return(nearby_venues)"
   ]
  },
  {
   "cell_type": "code",
   "execution_count": 16,
   "metadata": {},
   "outputs": [
    {
     "name": "stdout",
     "output_type": "stream",
     "text": [
      "Observatoire\n",
      "Popincourt\n",
      "Temple\n",
      "Louvre\n",
      "Entrepôt\n",
      "Vaugirard\n",
      "Bourse\n",
      "Hôtel-de-Ville\n",
      "Batignolles-Monceau\n",
      "Buttes-Montmartre\n",
      "Élysée\n",
      "Opéra\n",
      "Gobelins\n",
      "Luxembourg\n",
      "Buttes-Chaumont\n",
      "Panthéon\n",
      "Palais-Bourbon\n",
      "Ménilmontant\n",
      "Passy\n",
      "Reuilly\n"
     ]
    }
   ],
   "source": [
    "LIMIT=1000\n",
    "paris_venues = getNearbyVenues(names=arr['Arrondissement'],\n",
    "                                   latitudes=arr['Latitude'],\n",
    "                                   longitudes=arr['Longitude'])"
   ]
  },
  {
   "cell_type": "markdown",
   "metadata": {},
   "source": [
    "Here is an few of the venues that we got."
   ]
  },
  {
   "cell_type": "code",
   "execution_count": 17,
   "metadata": {},
   "outputs": [
    {
     "name": "stdout",
     "output_type": "stream",
     "text": [
      "(1378, 7)\n"
     ]
    },
    {
     "data": {
      "text/html": [
       "<div>\n",
       "<style scoped>\n",
       "    .dataframe tbody tr th:only-of-type {\n",
       "        vertical-align: middle;\n",
       "    }\n",
       "\n",
       "    .dataframe tbody tr th {\n",
       "        vertical-align: top;\n",
       "    }\n",
       "\n",
       "    .dataframe thead th {\n",
       "        text-align: right;\n",
       "    }\n",
       "</style>\n",
       "<table border=\"1\" class=\"dataframe\">\n",
       "  <thead>\n",
       "    <tr style=\"text-align: right;\">\n",
       "      <th></th>\n",
       "      <th>Neighborhood</th>\n",
       "      <th>Neighborhood Latitude</th>\n",
       "      <th>Neighborhood Longitude</th>\n",
       "      <th>Venue</th>\n",
       "      <th>Venue Latitude</th>\n",
       "      <th>Venue Longitude</th>\n",
       "      <th>Venue Category</th>\n",
       "    </tr>\n",
       "  </thead>\n",
       "  <tbody>\n",
       "    <tr>\n",
       "      <th>0</th>\n",
       "      <td>Observatoire</td>\n",
       "      <td>48.829245</td>\n",
       "      <td>2.326542</td>\n",
       "      <td>La Fabrica</td>\n",
       "      <td>48.827711</td>\n",
       "      <td>2.327819</td>\n",
       "      <td>Pizza Place</td>\n",
       "    </tr>\n",
       "    <tr>\n",
       "      <th>1</th>\n",
       "      <td>Observatoire</td>\n",
       "      <td>48.829245</td>\n",
       "      <td>2.326542</td>\n",
       "      <td>Dominique Saibron</td>\n",
       "      <td>48.827965</td>\n",
       "      <td>2.327376</td>\n",
       "      <td>Bakery</td>\n",
       "    </tr>\n",
       "    <tr>\n",
       "      <th>2</th>\n",
       "      <td>Observatoire</td>\n",
       "      <td>48.829245</td>\n",
       "      <td>2.326542</td>\n",
       "      <td>Les Jardins Contini</td>\n",
       "      <td>48.829856</td>\n",
       "      <td>2.328848</td>\n",
       "      <td>Italian Restaurant</td>\n",
       "    </tr>\n",
       "    <tr>\n",
       "      <th>3</th>\n",
       "      <td>Observatoire</td>\n",
       "      <td>48.829245</td>\n",
       "      <td>2.326542</td>\n",
       "      <td>Marks &amp; Spencer Food</td>\n",
       "      <td>48.828513</td>\n",
       "      <td>2.327862</td>\n",
       "      <td>Food &amp; Drink Shop</td>\n",
       "    </tr>\n",
       "    <tr>\n",
       "      <th>4</th>\n",
       "      <td>Observatoire</td>\n",
       "      <td>48.829245</td>\n",
       "      <td>2.326542</td>\n",
       "      <td>Les Pipelettes</td>\n",
       "      <td>48.831805</td>\n",
       "      <td>2.326385</td>\n",
       "      <td>Tea Room</td>\n",
       "    </tr>\n",
       "  </tbody>\n",
       "</table>\n",
       "</div>"
      ],
      "text/plain": [
       "   Neighborhood  Neighborhood Latitude  Neighborhood Longitude  \\\n",
       "0  Observatoire              48.829245                2.326542   \n",
       "1  Observatoire              48.829245                2.326542   \n",
       "2  Observatoire              48.829245                2.326542   \n",
       "3  Observatoire              48.829245                2.326542   \n",
       "4  Observatoire              48.829245                2.326542   \n",
       "\n",
       "                  Venue  Venue Latitude  Venue Longitude      Venue Category  \n",
       "0            La Fabrica       48.827711         2.327819         Pizza Place  \n",
       "1     Dominique Saibron       48.827965         2.327376              Bakery  \n",
       "2   Les Jardins Contini       48.829856         2.328848  Italian Restaurant  \n",
       "3  Marks & Spencer Food       48.828513         2.327862   Food & Drink Shop  \n",
       "4        Les Pipelettes       48.831805         2.326385            Tea Room  "
      ]
     },
     "execution_count": 17,
     "metadata": {},
     "output_type": "execute_result"
    }
   ],
   "source": [
    "print(paris_venues.shape)\n",
    "paris_venues.head()"
   ]
  },
  {
   "cell_type": "markdown",
   "metadata": {},
   "source": [
    "## 3. Methodology : Classification\n",
    "\n",
    "### Prepare the dataset\n",
    "\n",
    "Here we will use a onehot encoding on the venue types. This will help for the classification. We then split between X (the variables that explain) and y (the variable to be explained)."
   ]
  },
  {
   "cell_type": "code",
   "execution_count": 18,
   "metadata": {
    "scrolled": false
   },
   "outputs": [
    {
     "data": {
      "text/html": [
       "<div>\n",
       "<style scoped>\n",
       "    .dataframe tbody tr th:only-of-type {\n",
       "        vertical-align: middle;\n",
       "    }\n",
       "\n",
       "    .dataframe tbody tr th {\n",
       "        vertical-align: top;\n",
       "    }\n",
       "\n",
       "    .dataframe thead th {\n",
       "        text-align: right;\n",
       "    }\n",
       "</style>\n",
       "<table border=\"1\" class=\"dataframe\">\n",
       "  <thead>\n",
       "    <tr style=\"text-align: right;\">\n",
       "      <th></th>\n",
       "      <th>Neighborhood</th>\n",
       "      <th>Venue</th>\n",
       "      <th>Afghan Restaurant</th>\n",
       "      <th>African Restaurant</th>\n",
       "      <th>American Restaurant</th>\n",
       "      <th>Antique Shop</th>\n",
       "      <th>Argentinian Restaurant</th>\n",
       "      <th>Art Gallery</th>\n",
       "      <th>Art Museum</th>\n",
       "      <th>Arts &amp; Crafts Store</th>\n",
       "      <th>...</th>\n",
       "      <th>Vegetarian / Vegan Restaurant</th>\n",
       "      <th>Venezuelan Restaurant</th>\n",
       "      <th>Video Game Store</th>\n",
       "      <th>Vietnamese Restaurant</th>\n",
       "      <th>Wine Bar</th>\n",
       "      <th>Wine Shop</th>\n",
       "      <th>Women's Store</th>\n",
       "      <th>Yoga Studio</th>\n",
       "      <th>Zoo</th>\n",
       "      <th>Zoo Exhibit</th>\n",
       "    </tr>\n",
       "  </thead>\n",
       "  <tbody>\n",
       "    <tr>\n",
       "      <th>0</th>\n",
       "      <td>Observatoire</td>\n",
       "      <td>La Fabrica</td>\n",
       "      <td>0</td>\n",
       "      <td>0</td>\n",
       "      <td>0</td>\n",
       "      <td>0</td>\n",
       "      <td>0</td>\n",
       "      <td>0</td>\n",
       "      <td>0</td>\n",
       "      <td>0</td>\n",
       "      <td>...</td>\n",
       "      <td>0</td>\n",
       "      <td>0</td>\n",
       "      <td>0</td>\n",
       "      <td>0</td>\n",
       "      <td>0</td>\n",
       "      <td>0</td>\n",
       "      <td>0</td>\n",
       "      <td>0</td>\n",
       "      <td>0</td>\n",
       "      <td>0</td>\n",
       "    </tr>\n",
       "    <tr>\n",
       "      <th>1</th>\n",
       "      <td>Observatoire</td>\n",
       "      <td>Dominique Saibron</td>\n",
       "      <td>0</td>\n",
       "      <td>0</td>\n",
       "      <td>0</td>\n",
       "      <td>0</td>\n",
       "      <td>0</td>\n",
       "      <td>0</td>\n",
       "      <td>0</td>\n",
       "      <td>0</td>\n",
       "      <td>...</td>\n",
       "      <td>0</td>\n",
       "      <td>0</td>\n",
       "      <td>0</td>\n",
       "      <td>0</td>\n",
       "      <td>0</td>\n",
       "      <td>0</td>\n",
       "      <td>0</td>\n",
       "      <td>0</td>\n",
       "      <td>0</td>\n",
       "      <td>0</td>\n",
       "    </tr>\n",
       "  </tbody>\n",
       "</table>\n",
       "<p>2 rows × 205 columns</p>\n",
       "</div>"
      ],
      "text/plain": [
       "   Neighborhood              Venue  Afghan Restaurant  African Restaurant  \\\n",
       "0  Observatoire         La Fabrica                  0                   0   \n",
       "1  Observatoire  Dominique Saibron                  0                   0   \n",
       "\n",
       "   American Restaurant  Antique Shop  Argentinian Restaurant  Art Gallery  \\\n",
       "0                    0             0                       0            0   \n",
       "1                    0             0                       0            0   \n",
       "\n",
       "   Art Museum  Arts & Crafts Store  ...  Vegetarian / Vegan Restaurant  \\\n",
       "0           0                    0  ...                              0   \n",
       "1           0                    0  ...                              0   \n",
       "\n",
       "   Venezuelan Restaurant  Video Game Store  Vietnamese Restaurant  Wine Bar  \\\n",
       "0                      0                 0                      0         0   \n",
       "1                      0                 0                      0         0   \n",
       "\n",
       "   Wine Shop  Women's Store  Yoga Studio  Zoo  Zoo Exhibit  \n",
       "0          0              0            0    0            0  \n",
       "1          0              0            0    0            0  \n",
       "\n",
       "[2 rows x 205 columns]"
      ]
     },
     "execution_count": 18,
     "metadata": {},
     "output_type": "execute_result"
    }
   ],
   "source": [
    "onehot = pd.get_dummies(paris_venues[['Venue Category']], prefix=\"\", prefix_sep=\"\")\n",
    "onehot['Venue'] = paris_venues['Venue']\n",
    "\n",
    "df = paris_venues.join(onehot.set_index('Venue'), on='Venue')\n",
    "df.drop(columns=['Venue Category', 'Neighborhood Latitude', 'Neighborhood Longitude', 'Venue Latitude', 'Venue Longitude'], inplace = True)\n",
    "df.head(2)"
   ]
  },
  {
   "cell_type": "code",
   "execution_count": 19,
   "metadata": {},
   "outputs": [],
   "source": [
    "X = df.drop(columns=['Venue', 'Neighborhood'])\n",
    "y = df['Neighborhood'].values"
   ]
  },
  {
   "cell_type": "code",
   "execution_count": 20,
   "metadata": {},
   "outputs": [
    {
     "name": "stderr",
     "output_type": "stream",
     "text": [
      "/opt/conda/envs/Python36/lib/python3.6/site-packages/sklearn/preprocessing/data.py:645: DataConversionWarning: Data with input dtype uint8 were all converted to float64 by StandardScaler.\n",
      "  return self.partial_fit(X, y)\n",
      "/opt/conda/envs/Python36/lib/python3.6/site-packages/ipykernel/__main__.py:3: DataConversionWarning: Data with input dtype uint8 were all converted to float64 by StandardScaler.\n",
      "  app.launch_new_instance()\n"
     ]
    }
   ],
   "source": [
    "#normalize data\n",
    "from sklearn import preprocessing\n",
    "X= preprocessing.StandardScaler().fit(X).transform(X)"
   ]
  },
  {
   "cell_type": "code",
   "execution_count": 21,
   "metadata": {},
   "outputs": [
    {
     "name": "stdout",
     "output_type": "stream",
     "text": [
      "Train set: (1260, 203) (1260,)\n",
      "Test set: (316, 203) (316,)\n"
     ]
    }
   ],
   "source": [
    "# Decision Tree\n",
    "# We split between training set and testing set\n",
    "from sklearn.model_selection import train_test_split\n",
    "X_train, X_test, y_train, y_test = train_test_split(X, y, test_size=0.2, random_state=4)\n",
    "print ('Train set:', X_train.shape,  y_train.shape)\n",
    "print ('Test set:', X_test.shape,  y_test.shape)"
   ]
  },
  {
   "cell_type": "markdown",
   "metadata": {},
   "source": [
    "### Training the Decision Tree\n",
    "\n",
    "Here we train the algorithm and choose the max depth to use in order to maximise the accuracy"
   ]
  },
  {
   "cell_type": "code",
   "execution_count": 27,
   "metadata": {},
   "outputs": [],
   "source": [
    "from sklearn.tree import DecisionTreeClassifier\n",
    "from sklearn import metrics\n",
    "\n",
    "MD = 20\n",
    "acc_DT = np.zeros((MD-1))\n",
    "for n in range(1,MD):\n",
    "    \n",
    "    #Train Model and Predict  \n",
    "    drugTree = DecisionTreeClassifier(criterion=\"entropy\", max_depth = n)\n",
    "    drugTree.fit(X_train,y_train)    \n",
    "    predTree = drugTree.predict(X_test)    \n",
    "    acc_DT[n-1]=metrics.accuracy_score(y_test, predTree)"
   ]
  },
  {
   "cell_type": "code",
   "execution_count": 28,
   "metadata": {},
   "outputs": [
    {
     "data": {
      "image/png": "[encoded data removed]",
      "text/plain": [
       "<Figure size 432x288 with 1 Axes>"
      ]
     },
     "metadata": {
      "needs_background": "light"
     },
     "output_type": "display_data"
    },
    {
     "name": "stdout",
     "output_type": "stream",
     "text": [
      "The best accuracy was with 0.0981012658227848 with depth= 18\n"
     ]
    }
   ],
   "source": [
    "import matplotlib.pyplot as plt\n",
    "plt.plot(range(1,MD),acc_DT,'g')\n",
    "plt.ylabel('Accuracy ')\n",
    "plt.xlabel('max depth')\n",
    "plt.tight_layout()\n",
    "plt.show()\n",
    "print( \"The best accuracy was with\", acc_DT.max(), \"with depth=\", acc_DT.argmax()+1)"
   ]
  },
  {
   "cell_type": "code",
   "execution_count": 29,
   "metadata": {},
   "outputs": [
    {
     "data": {
      "text/plain": [
       "DecisionTreeClassifier(class_weight=None, criterion='entropy', max_depth=18,\n",
       "            max_features=None, max_leaf_nodes=None,\n",
       "            min_impurity_decrease=0.0, min_impurity_split=None,\n",
       "            min_samples_leaf=1, min_samples_split=2,\n",
       "            min_weight_fraction_leaf=0.0, presort=False, random_state=None,\n",
       "            splitter='best')"
      ]
     },
     "execution_count": 29,
     "metadata": {},
     "output_type": "execute_result"
    }
   ],
   "source": [
    "drugTree = DecisionTreeClassifier(criterion=\"entropy\", max_depth = acc_DT.argmax()+1)\n",
    "drugTree.fit(X_train,y_train)"
   ]
  },
  {
   "cell_type": "markdown",
   "metadata": {},
   "source": [
    "## 4. Results\n",
    "\n",
    "Now that the model is trained, we can now choose the type of venues we want to do the prediction on.  \n",
    "We first create a function that we will use for the prediction"
   ]
  },
  {
   "cell_type": "code",
   "execution_count": 30,
   "metadata": {},
   "outputs": [],
   "source": [
    "def to_predict(X_names):\n",
    "    yhat=[]\n",
    "    \n",
    "    #create the X set to predict\n",
    "    X_pred = df.drop(columns=['Venue', 'Neighborhood']).head(len(X_names)).copy()\n",
    "    X_pred[X_pred.eq(1)]=0\n",
    "    for i, name in enumerate(X_names):\n",
    "        X_pred[name][i] = 1\n",
    "        \n",
    "    #do the prediction\n",
    "    yhat = drugTree.predict(X_pred)\n",
    "    \n",
    "    return(yhat)"
   ]
  },
  {
   "cell_type": "code",
   "execution_count": 31,
   "metadata": {},
   "outputs": [
    {
     "data": {
      "text/plain": [
       "array(['Temple', 'Temple'], dtype=object)"
      ]
     },
     "execution_count": 31,
     "metadata": {},
     "output_type": "execute_result"
    }
   ],
   "source": [
    "#set which type of venue you want to search\n",
    "X_name = ['Italian Restaurant', 'Museum']\n",
    "yhat = to_predict(X_name)\n",
    "yhat"
   ]
  },
  {
   "cell_type": "markdown",
   "metadata": {},
   "source": [
    "### Plot the map\n",
    "\n",
    "here we plot the map of Paris, adding as markers the venues corresponding to the prediction (only first item of the array of prediction) and the neighborhood predicted."
   ]
  },
  {
   "cell_type": "code",
   "execution_count": 32,
   "metadata": {},
   "outputs": [
    {
     "data": {
      "text/html": [
       "<div style=\"width:100%;\"><div style=\"position:relative;width:100%;height:0;padding-bottom:60%;\"><iframe src=\"data:text/html;charset=utf-8;base64,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\" style=\"position:absolute;width:100%;height:100%;left:0;top:0;border:none !important;\" allowfullscreen webkitallowfullscreen mozallowfullscreen></iframe></div></div>"
      ],
      "text/plain": [
       "<folium.folium.Map at 0x7f175a97c978>"
      ]
     },
     "execution_count": 32,
     "metadata": {},
     "output_type": "execute_result"
    }
   ],
   "source": [
    "#map_paris = folium.Map(location=[latitude, longitude], zoom_start=12)\n",
    "\n",
    "# extract a dataframe of venues corresponding to the data predicted\n",
    "df = paris_venues[paris_venues['Venue Category'] == X_name[0]]\n",
    "\n",
    "# add markers to map\n",
    "for lat, lng, venue in zip(df['Venue Latitude'], df['Venue Longitude'], df['Venue']):\n",
    "    label = '{}'.format(venue)\n",
    "    label = folium.Popup(label, parse_html=True)\n",
    "    folium.CircleMarker(\n",
    "        [lat, lng],\n",
    "        radius=5,\n",
    "        popup=label,\n",
    "        color='blue',\n",
    "        fill=True,\n",
    "        fill_color='#3186cc',\n",
    "        fill_opacity=0.7,\n",
    "        parse_html=False).add_to(map_paris)  \n",
    "\n",
    "#add marker for the neighborhood predicted\n",
    "pred = paris_venues[paris_venues['Neighborhood'] == yhat[0]].iloc[0]\n",
    "lat = pred['Neighborhood Latitude']\n",
    "lng = pred['Neighborhood Longitude']\n",
    "\n",
    "folium.CircleMarker(\n",
    "        [lat, lng],\n",
    "        radius=10,\n",
    "        popup=folium.Popup('IM HERE : {}'.format(yhat[0]), parse_html=True),\n",
    "        color='red',\n",
    "        fill=True,\n",
    "        fill_opacity=0.7,\n",
    "        parse_html=False).add_to(map_paris)\n",
    "\n",
    "map_paris"
   ]
  },
  {
   "cell_type": "markdown",
   "metadata": {},
   "source": [
    "## 5.Discussion\n",
    "\n",
    "Though we can predecit several results at a time (different request regarding the venues), the map would not be easily readable if we would plot all the results at the same time. To do so we would need fewer data but that would impact the accuracy of our model.\n",
    "\n",
    "Another point that can be discussed is how relevent is the information for someone trying to open a business : would a neighborhood likely to have museums around would be a good place to open one ? Another study could be perform on the impact on concurrence and monopoly on a business.\n",
    "\n",
    "## 6. Conclusion\n",
    "\n",
    "In this project we gathered information about Paris : on its neighborhoods and its venues. The results are satisfying "
   ]
  },
  {
   "cell_type": "code",
   "execution_count": null,
   "metadata": {},
   "outputs": [],
   "source": []
  }
 ],
 "metadata": {
  "kernelspec": {
   "display_name": "Python 3.6",
   "language": "python",
   "name": "python3"
  },
  "language_info": {
   "codemirror_mode": {
    "name": "ipython",
    "version": 3
   },
   "file_extension": ".py",
   "mimetype": "text/x-python",
   "name": "python",
   "nbconvert_exporter": "python",
   "pygments_lexer": "ipython3",
   "version": "3.6.8"
  }
 },
 "nbformat": 4,
 "nbformat_minor": 1
}
