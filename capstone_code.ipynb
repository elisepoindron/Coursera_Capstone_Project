{
 "cells": [
  {
   "cell_type": "markdown",
   "metadata": {},
   "source": [
    "# Capstone Project: Where are you most likely to find a specific kind of venue in Paris ?\n",
    "\n",
    "Code part"
   ]
  },
  {
   "cell_type": "code",
   "execution_count": 1,
   "metadata": {},
   "outputs": [
    {
     "name": "stdout",
     "output_type": "stream",
     "text": [
      "Collecting folium\n",
      "\u001b[?25l  Downloading https://files.pythonhosted.org/packages/fd/a0/ccb3094026649cda4acd55bf2c3822bb8c277eb11446d13d384e5be35257/folium-0.10.1-py2.py3-none-any.whl (91kB)\n",
      "\u001b[K     |████████████████████████████████| 92kB 16.3MB/s eta 0:00:01\n",
      "\u001b[?25hRequirement already satisfied: requests in /opt/conda/envs/Python36/lib/python3.6/site-packages (from folium) (2.21.0)\n",
      "Collecting branca>=0.3.0 (from folium)\n",
      "  Downloading https://files.pythonhosted.org/packages/63/36/1c93318e9653f4e414a2e0c3b98fc898b4970e939afeedeee6075dd3b703/branca-0.3.1-py3-none-any.whl\n",
      "Requirement already satisfied: numpy in /opt/conda/envs/Python36/lib/python3.6/site-packages (from folium) (1.15.4)\n",
      "Requirement already satisfied: jinja2>=2.9 in /opt/conda/envs/Python36/lib/python3.6/site-packages (from folium) (2.10)\n",
      "Requirement already satisfied: idna<2.9,>=2.5 in /opt/conda/envs/Python36/lib/python3.6/site-packages (from requests->folium) (2.8)\n",
      "Requirement already satisfied: certifi>=2017.4.17 in /opt/conda/envs/Python36/lib/python3.6/site-packages (from requests->folium) (2019.11.28)\n",
      "Requirement already satisfied: urllib3<1.25,>=1.21.1 in /opt/conda/envs/Python36/lib/python3.6/site-packages (from requests->folium) (1.24.1)\n",
      "Requirement already satisfied: chardet<3.1.0,>=3.0.2 in /opt/conda/envs/Python36/lib/python3.6/site-packages (from requests->folium) (3.0.4)\n",
      "Requirement already satisfied: six in /opt/conda/envs/Python36/lib/python3.6/site-packages (from branca>=0.3.0->folium) (1.12.0)\n",
      "Requirement already satisfied: MarkupSafe>=0.23 in /opt/conda/envs/Python36/lib/python3.6/site-packages (from jinja2>=2.9->folium) (1.1.0)\n",
      "Installing collected packages: branca, folium\n",
      "Successfully installed branca-0.3.1 folium-0.10.1\n"
     ]
    }
   ],
   "source": [
    "!pip install folium"
   ]
  },
  {
   "cell_type": "code",
   "execution_count": 2,
   "metadata": {},
   "outputs": [],
   "source": [
    "import pandas as pd\n",
    "import numpy as np\n",
    "import json\n",
    "import folium\n",
    "import requests\n",
    "from geopy.geocoders import Nominatim\n",
    "from sklearn.cluster import KMeans\n",
    "import matplotlib.cm as cm\n",
    "import matplotlib.colors as colors"
   ]
  },
  {
   "cell_type": "markdown",
   "metadata": {},
   "source": [
    "\n",
    "\n",
    "## The data\n",
    "### Get the list of Paris Neighborhoods\n",
    "\n",
    "We here download the list of neighborhoods of Paris on the data.gouv website as a json file."
   ]
  },
  {
   "cell_type": "code",
   "execution_count": 3,
   "metadata": {},
   "outputs": [
    {
     "name": "stdout",
     "output_type": "stream",
     "text": [
      "Data downloaded!\n"
     ]
    }
   ],
   "source": [
    "!wget -q -O 'paris_data.json' https://www.data.gouv.fr/fr/datasets/r/4765fe48-35fd-4536-b029-4727380ce23c\n",
    "print('Data downloaded!')"
   ]
  },
  {
   "cell_type": "code",
   "execution_count": 4,
   "metadata": {},
   "outputs": [],
   "source": [
    "with open('paris_data.json') as json_data:\n",
    "    paris_data = json.load(json_data)"
   ]
  },
  {
   "cell_type": "markdown",
   "metadata": {},
   "source": [
    "Extract the \"features\" part of the json file, which is the part where the data is located"
   ]
  },
  {
   "cell_type": "code",
   "execution_count": 5,
   "metadata": {},
   "outputs": [],
   "source": [
    "#extract the part where the data is\n",
    "arr_data = paris_data['features']"
   ]
  },
  {
   "cell_type": "markdown",
   "metadata": {},
   "source": [
    "We now need to transform this data into a DataFrame"
   ]
  },
  {
   "cell_type": "code",
   "execution_count": 6,
   "metadata": {},
   "outputs": [],
   "source": [
    "# define the dataframe columns\n",
    "column_names = ['Arrondissement', 'Latitude', 'Longitude'] \n",
    "\n",
    "# instantiate the dataframe\n",
    "arr = pd.DataFrame(columns=column_names)\n",
    "\n",
    "for data in arr_data:\n",
    "    arrondissement = data['properties']['l_aroff']\n",
    "        \n",
    "    neighborhood_latlon = data['properties']['geom_x_y']\n",
    "    latitude = neighborhood_latlon[0]\n",
    "    longitude = neighborhood_latlon[1]\n",
    "    \n",
    "    arr = arr.append({'Arrondissement': arrondissement,\n",
    "                                          'Latitude': latitude,\n",
    "                                          'Longitude': longitude}, ignore_index=True)"
   ]
  },
  {
   "cell_type": "code",
   "execution_count": 7,
   "metadata": {},
   "outputs": [
    {
     "data": {
      "text/html": [
       "<div>\n",
       "<style scoped>\n",
       "    .dataframe tbody tr th:only-of-type {\n",
       "        vertical-align: middle;\n",
       "    }\n",
       "\n",
       "    .dataframe tbody tr th {\n",
       "        vertical-align: top;\n",
       "    }\n",
       "\n",
       "    .dataframe thead th {\n",
       "        text-align: right;\n",
       "    }\n",
       "</style>\n",
       "<table border=\"1\" class=\"dataframe\">\n",
       "  <thead>\n",
       "    <tr style=\"text-align: right;\">\n",
       "      <th></th>\n",
       "      <th>Arrondissement</th>\n",
       "      <th>Latitude</th>\n",
       "      <th>Longitude</th>\n",
       "    </tr>\n",
       "  </thead>\n",
       "  <tbody>\n",
       "    <tr>\n",
       "      <th>0</th>\n",
       "      <td>Observatoire</td>\n",
       "      <td>48.829245</td>\n",
       "      <td>2.326542</td>\n",
       "    </tr>\n",
       "    <tr>\n",
       "      <th>1</th>\n",
       "      <td>Passy</td>\n",
       "      <td>48.860392</td>\n",
       "      <td>2.261971</td>\n",
       "    </tr>\n",
       "    <tr>\n",
       "      <th>2</th>\n",
       "      <td>Popincourt</td>\n",
       "      <td>48.859059</td>\n",
       "      <td>2.380058</td>\n",
       "    </tr>\n",
       "    <tr>\n",
       "      <th>3</th>\n",
       "      <td>Temple</td>\n",
       "      <td>48.862872</td>\n",
       "      <td>2.360001</td>\n",
       "    </tr>\n",
       "    <tr>\n",
       "      <th>4</th>\n",
       "      <td>Reuilly</td>\n",
       "      <td>48.834974</td>\n",
       "      <td>2.421325</td>\n",
       "    </tr>\n",
       "    <tr>\n",
       "      <th>5</th>\n",
       "      <td>Louvre</td>\n",
       "      <td>48.862563</td>\n",
       "      <td>2.336443</td>\n",
       "    </tr>\n",
       "    <tr>\n",
       "      <th>6</th>\n",
       "      <td>Entrepôt</td>\n",
       "      <td>48.876130</td>\n",
       "      <td>2.360728</td>\n",
       "    </tr>\n",
       "    <tr>\n",
       "      <th>7</th>\n",
       "      <td>Vaugirard</td>\n",
       "      <td>48.840085</td>\n",
       "      <td>2.292826</td>\n",
       "    </tr>\n",
       "    <tr>\n",
       "      <th>8</th>\n",
       "      <td>Bourse</td>\n",
       "      <td>48.868279</td>\n",
       "      <td>2.342803</td>\n",
       "    </tr>\n",
       "    <tr>\n",
       "      <th>9</th>\n",
       "      <td>Hôtel-de-Ville</td>\n",
       "      <td>48.854341</td>\n",
       "      <td>2.357630</td>\n",
       "    </tr>\n",
       "    <tr>\n",
       "      <th>10</th>\n",
       "      <td>Batignolles-Monceau</td>\n",
       "      <td>48.887327</td>\n",
       "      <td>2.306777</td>\n",
       "    </tr>\n",
       "    <tr>\n",
       "      <th>11</th>\n",
       "      <td>Buttes-Montmartre</td>\n",
       "      <td>48.892569</td>\n",
       "      <td>2.348161</td>\n",
       "    </tr>\n",
       "    <tr>\n",
       "      <th>12</th>\n",
       "      <td>Élysée</td>\n",
       "      <td>48.872721</td>\n",
       "      <td>2.312554</td>\n",
       "    </tr>\n",
       "    <tr>\n",
       "      <th>13</th>\n",
       "      <td>Opéra</td>\n",
       "      <td>48.877164</td>\n",
       "      <td>2.337458</td>\n",
       "    </tr>\n",
       "    <tr>\n",
       "      <th>14</th>\n",
       "      <td>Gobelins</td>\n",
       "      <td>48.828388</td>\n",
       "      <td>2.362272</td>\n",
       "    </tr>\n",
       "    <tr>\n",
       "      <th>15</th>\n",
       "      <td>Luxembourg</td>\n",
       "      <td>48.849130</td>\n",
       "      <td>2.332898</td>\n",
       "    </tr>\n",
       "    <tr>\n",
       "      <th>16</th>\n",
       "      <td>Buttes-Chaumont</td>\n",
       "      <td>48.887076</td>\n",
       "      <td>2.384821</td>\n",
       "    </tr>\n",
       "    <tr>\n",
       "      <th>17</th>\n",
       "      <td>Panthéon</td>\n",
       "      <td>48.844443</td>\n",
       "      <td>2.350715</td>\n",
       "    </tr>\n",
       "    <tr>\n",
       "      <th>18</th>\n",
       "      <td>Palais-Bourbon</td>\n",
       "      <td>48.856174</td>\n",
       "      <td>2.312188</td>\n",
       "    </tr>\n",
       "    <tr>\n",
       "      <th>19</th>\n",
       "      <td>Ménilmontant</td>\n",
       "      <td>48.863461</td>\n",
       "      <td>2.401188</td>\n",
       "    </tr>\n",
       "  </tbody>\n",
       "</table>\n",
       "</div>"
      ],
      "text/plain": [
       "         Arrondissement   Latitude  Longitude\n",
       "0          Observatoire  48.829245   2.326542\n",
       "1                 Passy  48.860392   2.261971\n",
       "2            Popincourt  48.859059   2.380058\n",
       "3                Temple  48.862872   2.360001\n",
       "4               Reuilly  48.834974   2.421325\n",
       "5                Louvre  48.862563   2.336443\n",
       "6              Entrepôt  48.876130   2.360728\n",
       "7             Vaugirard  48.840085   2.292826\n",
       "8                Bourse  48.868279   2.342803\n",
       "9        Hôtel-de-Ville  48.854341   2.357630\n",
       "10  Batignolles-Monceau  48.887327   2.306777\n",
       "11    Buttes-Montmartre  48.892569   2.348161\n",
       "12               Élysée  48.872721   2.312554\n",
       "13                Opéra  48.877164   2.337458\n",
       "14             Gobelins  48.828388   2.362272\n",
       "15           Luxembourg  48.849130   2.332898\n",
       "16      Buttes-Chaumont  48.887076   2.384821\n",
       "17             Panthéon  48.844443   2.350715\n",
       "18       Palais-Bourbon  48.856174   2.312188\n",
       "19         Ménilmontant  48.863461   2.401188"
      ]
     },
     "execution_count": 7,
     "metadata": {},
     "output_type": "execute_result"
    }
   ],
   "source": [
    "arr"
   ]
  },
  {
   "cell_type": "code",
   "execution_count": 8,
   "metadata": {},
   "outputs": [
    {
     "name": "stdout",
     "output_type": "stream",
     "text": [
      "There are indeed 20 arrondissement in Paris\n"
     ]
    }
   ],
   "source": [
    "print('There are indeed {} arrondissement in Paris'.format(arr.shape[0]))"
   ]
  },
  {
   "cell_type": "markdown",
   "metadata": {},
   "source": [
    "### Map of Paris and its neighborhoods\n",
    "\n",
    "We now plot the map of Paris and its arrondissements to have an overview.\n",
    "We first get the coordinates of Paris and then add the markers"
   ]
  },
  {
   "cell_type": "code",
   "execution_count": 9,
   "metadata": {},
   "outputs": [
    {
     "name": "stdout",
     "output_type": "stream",
     "text": [
      "The geograpical coordinate of Paris are 48.8634605789, 2.40118812928.\n"
     ]
    }
   ],
   "source": [
    "address = 'Paris'\n",
    "\n",
    "geolocator = Nominatim(user_agent=\"paris_explorer\")\n",
    "location = geolocator.geocode(address)\n",
    "paris_latitude = location.latitude\n",
    "paris_longitude = location.longitude\n",
    "print('The geograpical coordinate of Paris are {}, {}.'.format(latitude, longitude))"
   ]
  },
  {
   "cell_type": "code",
   "execution_count": 10,
   "metadata": {
    "scrolled": true
   },
   "outputs": [
    {
     "data": {
      "text/html": [
       "<div style=\"width:100%;\"><div style=\"position:relative;width:100%;height:0;padding-bottom:60%;\"><iframe src=\"data:text/html;charset=utf-8;base64,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\" style=\"position:absolute;width:100%;height:100%;left:0;top:0;border:none !important;\" allowfullscreen webkitallowfullscreen mozallowfullscreen></iframe></div></div>"
      ],
      "text/plain": [
       "<folium.folium.Map at 0x7eff4e7dab00>"
      ]
     },
     "execution_count": 10,
     "metadata": {},
     "output_type": "execute_result"
    }
   ],
   "source": [
    "# create map of Paris using latitude and longitude values\n",
    "map_paris = folium.Map(location=[paris_latitude, paris_longitude], zoom_start=12)\n",
    "\n",
    "# add markers to map\n",
    "for lat, lng, arrondissement in zip(arr['Latitude'], arr['Longitude'], arr['Arrondissement']):\n",
    "    label = '{}'.format(arrondissement)\n",
    "    label = folium.Popup(label, parse_html=True)\n",
    "    folium.CircleMarker(\n",
    "        [lat, lng],\n",
    "        radius=5,\n",
    "        popup=label,\n",
    "        color='blue',\n",
    "        fill=True,\n",
    "        fill_color='#3186cc',\n",
    "        fill_opacity=0.7,\n",
    "        parse_html=False).add_to(map_paris)  \n",
    "    \n",
    "map_paris"
   ]
  },
  {
   "cell_type": "markdown",
   "metadata": {},
   "source": [
    "### Get venues from Foursquare\n",
    "\n",
    "Now that we have data about the neighborhoods, we investgate the venues that populate them.  \n",
    "We first enter my credentials and then define a function that exracts the venues for each neighborhoods"
   ]
  },
  {
   "cell_type": "code",
   "execution_count": 11,
   "metadata": {},
   "outputs": [
    {
     "name": "stdout",
     "output_type": "stream",
     "text": [
      "Your credentails:\n",
      "CLIENT_ID: KHP2ALXRH4ZO0AFY0Y2T2DIA1A5F1U5KYJOBUWSNPAFFCQU0\n",
      "CLIENT_SECRET:YV35030ASPVOMQ4PLSID0BIPU2AUC1XUB3RMFCFNOKYSUGD1\n"
     ]
    }
   ],
   "source": [
    "CLIENT_ID = 'KHP2ALXRH4ZO0AFY0Y2T2DIA1A5F1U5KYJOBUWSNPAFFCQU0' # your Foursquare ID\n",
    "CLIENT_SECRET = 'YV35030ASPVOMQ4PLSID0BIPU2AUC1XUB3RMFCFNOKYSUGD1' # your Foursquare Secret\n",
    "VERSION = '20180605' # Foursquare API version\n",
    "\n",
    "print('Your credentails:')\n",
    "print('CLIENT_ID: ' + CLIENT_ID)\n",
    "print('CLIENT_SECRET:' + CLIENT_SECRET)"
   ]
  },
  {
   "cell_type": "code",
   "execution_count": 12,
   "metadata": {},
   "outputs": [],
   "source": [
    "def getNearbyVenues(names, latitudes, longitudes, radius=2000):\n",
    "    \n",
    "    venues_list=[]\n",
    "    for name, lat, lng in zip(names, latitudes, longitudes):\n",
    "        print(name)\n",
    "            \n",
    "        # create the API request URL\n",
    "        url = 'https://api.foursquare.com/v2/venues/explore?&client_id={}&client_secret={}&v={}&ll={},{}&radius={}&limit={}'.format(\n",
    "            CLIENT_ID, \n",
    "            CLIENT_SECRET, \n",
    "            VERSION, \n",
    "            lat, \n",
    "            lng, \n",
    "            radius, \n",
    "            LIMIT)\n",
    "            \n",
    "        # make the GET request\n",
    "        results = requests.get(url).json()[\"response\"]['groups'][0]['items']\n",
    "        \n",
    "        # return only relevant information for each nearby venue\n",
    "        venues_list.append([(\n",
    "            name, \n",
    "            lat, \n",
    "            lng, \n",
    "            v['venue']['name'], \n",
    "            v['venue']['location']['lat'], \n",
    "            v['venue']['location']['lng'],  \n",
    "            v['venue']['categories'][0]['name']) for v in results])\n",
    "\n",
    "    nearby_venues = pd.DataFrame([item for venue_list in venues_list for item in venue_list])\n",
    "    nearby_venues.columns = ['Neighborhood', \n",
    "                  'Neighborhood Latitude', \n",
    "                  'Neighborhood Longitude', \n",
    "                  'Venue', \n",
    "                  'Venue Latitude', \n",
    "                  'Venue Longitude', \n",
    "                  'Venue Category']\n",
    "    \n",
    "    return(nearby_venues)"
   ]
  },
  {
   "cell_type": "code",
   "execution_count": 14,
   "metadata": {},
   "outputs": [
    {
     "name": "stdout",
     "output_type": "stream",
     "text": [
      "Observatoire\n",
      "Passy\n",
      "Popincourt\n",
      "Temple\n",
      "Reuilly\n",
      "Louvre\n",
      "Entrepôt\n",
      "Vaugirard\n",
      "Bourse\n",
      "Hôtel-de-Ville\n",
      "Batignolles-Monceau\n",
      "Buttes-Montmartre\n",
      "Élysée\n",
      "Opéra\n",
      "Gobelins\n",
      "Luxembourg\n",
      "Buttes-Chaumont\n",
      "Panthéon\n",
      "Palais-Bourbon\n",
      "Ménilmontant\n"
     ]
    }
   ],
   "source": [
    "LIMIT=1000\n",
    "paris_venues = getNearbyVenues(names=arr['Arrondissement'],\n",
    "                                   latitudes=arr['Latitude'],\n",
    "                                   longitudes=arr['Longitude'])"
   ]
  },
  {
   "cell_type": "markdown",
   "metadata": {},
   "source": [
    "Here is an few of the venues that we got."
   ]
  },
  {
   "cell_type": "code",
   "execution_count": 15,
   "metadata": {},
   "outputs": [
    {
     "name": "stdout",
     "output_type": "stream",
     "text": [
      "(2000, 7)\n"
     ]
    },
    {
     "data": {
      "text/html": [
       "<div>\n",
       "<style scoped>\n",
       "    .dataframe tbody tr th:only-of-type {\n",
       "        vertical-align: middle;\n",
       "    }\n",
       "\n",
       "    .dataframe tbody tr th {\n",
       "        vertical-align: top;\n",
       "    }\n",
       "\n",
       "    .dataframe thead th {\n",
       "        text-align: right;\n",
       "    }\n",
       "</style>\n",
       "<table border=\"1\" class=\"dataframe\">\n",
       "  <thead>\n",
       "    <tr style=\"text-align: right;\">\n",
       "      <th></th>\n",
       "      <th>Neighborhood</th>\n",
       "      <th>Neighborhood Latitude</th>\n",
       "      <th>Neighborhood Longitude</th>\n",
       "      <th>Venue</th>\n",
       "      <th>Venue Latitude</th>\n",
       "      <th>Venue Longitude</th>\n",
       "      <th>Venue Category</th>\n",
       "    </tr>\n",
       "  </thead>\n",
       "  <tbody>\n",
       "    <tr>\n",
       "      <th>0</th>\n",
       "      <td>Observatoire</td>\n",
       "      <td>48.829245</td>\n",
       "      <td>2.326542</td>\n",
       "      <td>La Fabrica</td>\n",
       "      <td>48.827711</td>\n",
       "      <td>2.327819</td>\n",
       "      <td>Pizza Place</td>\n",
       "    </tr>\n",
       "    <tr>\n",
       "      <th>1</th>\n",
       "      <td>Observatoire</td>\n",
       "      <td>48.829245</td>\n",
       "      <td>2.326542</td>\n",
       "      <td>Les Pipelettes</td>\n",
       "      <td>48.831805</td>\n",
       "      <td>2.326385</td>\n",
       "      <td>Tea Room</td>\n",
       "    </tr>\n",
       "    <tr>\n",
       "      <th>2</th>\n",
       "      <td>Observatoire</td>\n",
       "      <td>48.829245</td>\n",
       "      <td>2.326542</td>\n",
       "      <td>Le Petit Baigneur</td>\n",
       "      <td>48.831712</td>\n",
       "      <td>2.324259</td>\n",
       "      <td>French Restaurant</td>\n",
       "    </tr>\n",
       "    <tr>\n",
       "      <th>3</th>\n",
       "      <td>Observatoire</td>\n",
       "      <td>48.829245</td>\n",
       "      <td>2.326542</td>\n",
       "      <td>La Maison Courtine</td>\n",
       "      <td>48.833287</td>\n",
       "      <td>2.324629</td>\n",
       "      <td>French Restaurant</td>\n",
       "    </tr>\n",
       "    <tr>\n",
       "      <th>4</th>\n",
       "      <td>Observatoire</td>\n",
       "      <td>48.829245</td>\n",
       "      <td>2.326542</td>\n",
       "      <td>Dominique Saibron</td>\n",
       "      <td>48.827965</td>\n",
       "      <td>2.327376</td>\n",
       "      <td>Bakery</td>\n",
       "    </tr>\n",
       "  </tbody>\n",
       "</table>\n",
       "</div>"
      ],
      "text/plain": [
       "   Neighborhood  Neighborhood Latitude  Neighborhood Longitude  \\\n",
       "0  Observatoire              48.829245                2.326542   \n",
       "1  Observatoire              48.829245                2.326542   \n",
       "2  Observatoire              48.829245                2.326542   \n",
       "3  Observatoire              48.829245                2.326542   \n",
       "4  Observatoire              48.829245                2.326542   \n",
       "\n",
       "                Venue  Venue Latitude  Venue Longitude     Venue Category  \n",
       "0          La Fabrica       48.827711         2.327819        Pizza Place  \n",
       "1      Les Pipelettes       48.831805         2.326385           Tea Room  \n",
       "2   Le Petit Baigneur       48.831712         2.324259  French Restaurant  \n",
       "3  La Maison Courtine       48.833287         2.324629  French Restaurant  \n",
       "4   Dominique Saibron       48.827965         2.327376             Bakery  "
      ]
     },
     "execution_count": 15,
     "metadata": {},
     "output_type": "execute_result"
    }
   ],
   "source": [
    "print(paris_venues.shape)\n",
    "paris_venues.head()"
   ]
  },
  {
   "cell_type": "markdown",
   "metadata": {},
   "source": [
    "## Methodology : Classification\n",
    "\n",
    "### Prepare the dataset\n",
    "\n",
    "Here we will use a onehot encoding on the venue types. This will help for the classification. We then split between X (the variables that explain) and y (the variable to be explained)."
   ]
  },
  {
   "cell_type": "code",
   "execution_count": 16,
   "metadata": {
    "scrolled": false
   },
   "outputs": [
    {
     "data": {
      "text/html": [
       "<div>\n",
       "<style scoped>\n",
       "    .dataframe tbody tr th:only-of-type {\n",
       "        vertical-align: middle;\n",
       "    }\n",
       "\n",
       "    .dataframe tbody tr th {\n",
       "        vertical-align: top;\n",
       "    }\n",
       "\n",
       "    .dataframe thead th {\n",
       "        text-align: right;\n",
       "    }\n",
       "</style>\n",
       "<table border=\"1\" class=\"dataframe\">\n",
       "  <thead>\n",
       "    <tr style=\"text-align: right;\">\n",
       "      <th></th>\n",
       "      <th>Neighborhood</th>\n",
       "      <th>Venue</th>\n",
       "      <th>African Restaurant</th>\n",
       "      <th>Aquarium</th>\n",
       "      <th>Arepa Restaurant</th>\n",
       "      <th>Argentinian Restaurant</th>\n",
       "      <th>Art Gallery</th>\n",
       "      <th>Art Museum</th>\n",
       "      <th>Asian Restaurant</th>\n",
       "      <th>Auvergne Restaurant</th>\n",
       "      <th>...</th>\n",
       "      <th>Udon Restaurant</th>\n",
       "      <th>Vegetarian / Vegan Restaurant</th>\n",
       "      <th>Vietnamese Restaurant</th>\n",
       "      <th>Vineyard</th>\n",
       "      <th>Wine Bar</th>\n",
       "      <th>Wine Shop</th>\n",
       "      <th>Women's Store</th>\n",
       "      <th>Yoga Studio</th>\n",
       "      <th>Zoo</th>\n",
       "      <th>Zoo Exhibit</th>\n",
       "    </tr>\n",
       "  </thead>\n",
       "  <tbody>\n",
       "    <tr>\n",
       "      <th>0</th>\n",
       "      <td>Observatoire</td>\n",
       "      <td>La Fabrica</td>\n",
       "      <td>0</td>\n",
       "      <td>0</td>\n",
       "      <td>0</td>\n",
       "      <td>0</td>\n",
       "      <td>0</td>\n",
       "      <td>0</td>\n",
       "      <td>0</td>\n",
       "      <td>0</td>\n",
       "      <td>...</td>\n",
       "      <td>0</td>\n",
       "      <td>0</td>\n",
       "      <td>0</td>\n",
       "      <td>0</td>\n",
       "      <td>0</td>\n",
       "      <td>0</td>\n",
       "      <td>0</td>\n",
       "      <td>0</td>\n",
       "      <td>0</td>\n",
       "      <td>0</td>\n",
       "    </tr>\n",
       "    <tr>\n",
       "      <th>1</th>\n",
       "      <td>Observatoire</td>\n",
       "      <td>Les Pipelettes</td>\n",
       "      <td>0</td>\n",
       "      <td>0</td>\n",
       "      <td>0</td>\n",
       "      <td>0</td>\n",
       "      <td>0</td>\n",
       "      <td>0</td>\n",
       "      <td>0</td>\n",
       "      <td>0</td>\n",
       "      <td>...</td>\n",
       "      <td>0</td>\n",
       "      <td>0</td>\n",
       "      <td>0</td>\n",
       "      <td>0</td>\n",
       "      <td>0</td>\n",
       "      <td>0</td>\n",
       "      <td>0</td>\n",
       "      <td>0</td>\n",
       "      <td>0</td>\n",
       "      <td>0</td>\n",
       "    </tr>\n",
       "  </tbody>\n",
       "</table>\n",
       "<p>2 rows × 213 columns</p>\n",
       "</div>"
      ],
      "text/plain": [
       "   Neighborhood           Venue  African Restaurant  Aquarium  \\\n",
       "0  Observatoire      La Fabrica                   0         0   \n",
       "1  Observatoire  Les Pipelettes                   0         0   \n",
       "\n",
       "   Arepa Restaurant  Argentinian Restaurant  Art Gallery  Art Museum  \\\n",
       "0                 0                       0            0           0   \n",
       "1                 0                       0            0           0   \n",
       "\n",
       "   Asian Restaurant  Auvergne Restaurant  ...  Udon Restaurant  \\\n",
       "0                 0                    0  ...                0   \n",
       "1                 0                    0  ...                0   \n",
       "\n",
       "   Vegetarian / Vegan Restaurant  Vietnamese Restaurant  Vineyard  Wine Bar  \\\n",
       "0                              0                      0         0         0   \n",
       "1                              0                      0         0         0   \n",
       "\n",
       "   Wine Shop  Women's Store  Yoga Studio  Zoo  Zoo Exhibit  \n",
       "0          0              0            0    0            0  \n",
       "1          0              0            0    0            0  \n",
       "\n",
       "[2 rows x 213 columns]"
      ]
     },
     "execution_count": 16,
     "metadata": {},
     "output_type": "execute_result"
    }
   ],
   "source": [
    "onehot = pd.get_dummies(paris_venues[['Venue Category']], prefix=\"\", prefix_sep=\"\")\n",
    "onehot['Venue'] = paris_venues['Venue']\n",
    "\n",
    "df = paris_venues.join(onehot.set_index('Venue'), on='Venue')\n",
    "df.drop(columns=['Venue Category', 'Neighborhood Latitude', 'Neighborhood Longitude', 'Venue Latitude', 'Venue Longitude'], inplace = True)\n",
    "df.head(2)"
   ]
  },
  {
   "cell_type": "code",
   "execution_count": 17,
   "metadata": {},
   "outputs": [],
   "source": [
    "X = df.drop(columns=['Venue', 'Neighborhood'])\n",
    "y = df['Neighborhood'].values"
   ]
  },
  {
   "cell_type": "code",
   "execution_count": 18,
   "metadata": {},
   "outputs": [],
   "source": [
    "#normalize data\n",
    "from sklearn import preprocessing\n",
    "#X= preprocessing.StandardScaler().fit(X).transform(X)"
   ]
  },
  {
   "cell_type": "code",
   "execution_count": 19,
   "metadata": {},
   "outputs": [
    {
     "name": "stdout",
     "output_type": "stream",
     "text": [
      "Train set: (3134, 211) (3134,)\n",
      "Test set: (784, 211) (784,)\n"
     ]
    }
   ],
   "source": [
    "# Decision Tree\n",
    "# We split between training set and testing set\n",
    "from sklearn.model_selection import train_test_split\n",
    "X_train, X_test, y_train, y_test = train_test_split(X, y, test_size=0.2, random_state=4)\n",
    "print ('Train set:', X_train.shape,  y_train.shape)\n",
    "print ('Test set:', X_test.shape,  y_test.shape)"
   ]
  },
  {
   "cell_type": "markdown",
   "metadata": {},
   "source": [
    "### Training the Decision Tree\n",
    "\n",
    "Here we train the algorithm and choose the max depth to use in order to maximise the accuracy"
   ]
  },
  {
   "cell_type": "code",
   "execution_count": 20,
   "metadata": {},
   "outputs": [],
   "source": [
    "from sklearn.tree import DecisionTreeClassifier\n",
    "from sklearn import metrics\n",
    "\n",
    "MD = 20\n",
    "acc_DT = np.zeros((MD-1))\n",
    "for n in range(1,MD):\n",
    "    \n",
    "    #Train Model and Predict  \n",
    "    drugTree = DecisionTreeClassifier(criterion=\"entropy\", max_depth = n)\n",
    "    drugTree.fit(X_train,y_train)    \n",
    "    predTree = drugTree.predict(X_test)    \n",
    "    acc_DT[n-1]=metrics.accuracy_score(y_test, predTree)"
   ]
  },
  {
   "cell_type": "code",
   "execution_count": 22,
   "metadata": {},
   "outputs": [
    {
     "data": {
      "image/png": "[encoded data removed]",
      "text/plain": [
       "<Figure size 432x288 with 1 Axes>"
      ]
     },
     "metadata": {
      "needs_background": "light"
     },
     "output_type": "display_data"
    },
    {
     "name": "stdout",
     "output_type": "stream",
     "text": [
      "The best accuracy was with 0.11479591836734694 with depth= 19\n"
     ]
    }
   ],
   "source": [
    "import matplotlib.pyplot as plt\n",
    "plt.plot(range(1,MD),acc_DT,'g')\n",
    "plt.ylabel('Accuracy ')\n",
    "plt.xlabel('max depth')\n",
    "plt.tight_layout()\n",
    "plt.show()\n",
    "print( \"The best accuracy was with\", acc_DT.max(), \"with depth=\", acc_DT.argmax()+1)"
   ]
  },
  {
   "cell_type": "code",
   "execution_count": 23,
   "metadata": {},
   "outputs": [
    {
     "data": {
      "text/plain": [
       "DecisionTreeClassifier(class_weight=None, criterion='entropy', max_depth=19,\n",
       "            max_features=None, max_leaf_nodes=None,\n",
       "            min_impurity_decrease=0.0, min_impurity_split=None,\n",
       "            min_samples_leaf=1, min_samples_split=2,\n",
       "            min_weight_fraction_leaf=0.0, presort=False, random_state=None,\n",
       "            splitter='best')"
      ]
     },
     "execution_count": 23,
     "metadata": {},
     "output_type": "execute_result"
    }
   ],
   "source": [
    "drugTree = DecisionTreeClassifier(criterion=\"entropy\", max_depth = acc_DT.argmax()+1)\n",
    "drugTree.fit(X_train,y_train)"
   ]
  },
  {
   "cell_type": "markdown",
   "metadata": {},
   "source": [
    "## Results\n",
    "\n",
    "Now that the model is trained, we can now choose the type of venues we want to do the prediction on.  \n",
    "We first create a function that we will use for the prediction"
   ]
  },
  {
   "cell_type": "code",
   "execution_count": 24,
   "metadata": {},
   "outputs": [],
   "source": [
    "def to_predict(X_names):\n",
    "    yhat=[]\n",
    "    \n",
    "    #create the X set to predict\n",
    "    X_pred = df.drop(columns=['Venue', 'Neighborhood']).head(len(X_names)).copy()\n",
    "    X_pred[X_pred.eq(1)]=0\n",
    "    for i, name in enumerate(X_names):\n",
    "        X_pred[name][i] = 1\n",
    "        \n",
    "    #do the prediction\n",
    "    yhat = drugTree.predict(X_pred)\n",
    "    \n",
    "    return(yhat)"
   ]
  },
  {
   "cell_type": "code",
   "execution_count": 28,
   "metadata": {},
   "outputs": [
    {
     "data": {
      "text/plain": [
       "array(['Temple', 'Louvre'], dtype=object)"
      ]
     },
     "execution_count": 28,
     "metadata": {},
     "output_type": "execute_result"
    }
   ],
   "source": [
    "#set which type of venue you want to search\n",
    "X_name = ['Greek Restaurant', 'Art Museum']\n",
    "yhat = to_predict(X_name)\n",
    "yhat"
   ]
  },
  {
   "cell_type": "markdown",
   "metadata": {},
   "source": [
    "### Plot the map\n",
    "\n",
    "here we plot the map of Paris, adding as markers the venues corresponding to the prediction (only first item of the array of prediction) and the neighborhood predicted."
   ]
  },
  {
   "cell_type": "code",
   "execution_count": 29,
   "metadata": {},
   "outputs": [
    {
     "data": {
      "text/html": [
       "<div style=\"width:100%;\"><div style=\"position:relative;width:100%;height:0;padding-bottom:60%;\"><iframe src=\"data:text/html;charset=utf-8;base64,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\" style=\"position:absolute;width:100%;height:100%;left:0;top:0;border:none !important;\" allowfullscreen webkitallowfullscreen mozallowfullscreen></iframe></div></div>"
      ],
      "text/plain": [
       "<folium.folium.Map at 0x7eff4e7dab00>"
      ]
     },
     "execution_count": 29,
     "metadata": {},
     "output_type": "execute_result"
    }
   ],
   "source": [
    "#map_paris = folium.Map(location=[latitude, longitude], zoom_start=12)\n",
    "\n",
    "# extract a dataframe of venues corresponding to the data predicted\n",
    "df = paris_venues[paris_venues['Venue Category'] == X_name[0]]\n",
    "\n",
    "# add markers to map\n",
    "for lat, lng, venue in zip(df['Venue Latitude'], df['Venue Longitude'], df['Venue']):\n",
    "    label = '{}'.format(venue)\n",
    "    label = folium.Popup(label, parse_html=True)\n",
    "    folium.CircleMarker(\n",
    "        [lat, lng],\n",
    "        radius=5,\n",
    "        popup=label,\n",
    "        color='blue',\n",
    "        fill=True,\n",
    "        fill_color='#3186cc',\n",
    "        fill_opacity=0.7,\n",
    "        parse_html=False).add_to(map_paris)  \n",
    "\n",
    "#add marker for the neighborhood predicted\n",
    "pred = paris_venues[paris_venues['Neighborhood'] == yhat[0]].iloc[0]\n",
    "lat = pred['Neighborhood Latitude']\n",
    "lng = pred['Neighborhood Longitude']\n",
    "\n",
    "folium.CircleMarker(\n",
    "        [lat, lng],\n",
    "        radius=10,\n",
    "        popup=folium.Popup('IM HERE : {}'.format(yhat[0]), parse_html=True),\n",
    "        color='red',\n",
    "        fill=True,\n",
    "        fill_opacity=0.7,\n",
    "        parse_html=False).add_to(map_paris)\n",
    "\n",
    "map_paris"
   ]
  }
 ],
 "metadata": {
  "kernelspec": {
   "display_name": "Python 3.6",
   "language": "python",
   "name": "python3"
  },
  "language_info": {
   "codemirror_mode": {
    "name": "ipython",
    "version": 3
   },
   "file_extension": ".py",
   "mimetype": "text/x-python",
   "name": "python",
   "nbconvert_exporter": "python",
   "pygments_lexer": "ipython3",
   "version": "3.6.8"
  }
 },
 "nbformat": 4,
 "nbformat_minor": 1
}
