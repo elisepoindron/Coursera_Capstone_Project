{
 "cells": [
  {
   "cell_type": "markdown",
   "metadata": {},
   "source": [
    "# Capstone Project: Where are you most likely to find a specific kind of venue in Paris ?\n",
    "\n",
    "## 1. Introduction to the Problem\n",
    "\n",
    "For this project, I've chosen to study **venues in Paris** and in which **arrondissement** they are most likely to appear. For instance, if you're a italian tourist in Paris, and craving for those italian pastas you miss so much. You might then wonder in which neighborhood you should head to in order to find what you're looking for.  \n",
    "  \n",
    "Another application could be that you have the project of opening a Art Gallery. You might want to know in which neighborhood you're the most likely to find other galleries and match the demand there.\n",
    "\n",
    "The **target** can be then very wide : from citizens looking for a place to a professional trying to start a business\n",
    "\n",
    "## 2. The data\n",
    "\n",
    "I will need two sources of datas for this project\n",
    "* I will need the list of neighborhoods of Paris, which I can find on the [data.gouv website](https://www.data.gouv.fr/fr/datasets/r/4765fe48-35fd-4536-b029-4727380ce23c). This will be extracted as a json file and then converted into a dataframe. The table will contain the list of neighborhoods and their related coordinates.\n",
    "\n",
    "* I will then need to extract the venues of the different neighborhoods in Paris through the Foursquare API. I create a function that uses the Foursquare API search for each neighborhood. Here I will get a list of the venues, their coordinates, and their category. We will use the categories for the model later on.\n",
    "\n",
    "## 3. Methodology : Classification\n",
    "\n",
    "I will then do a **Decision Tree** to look for classification in those neighborhoods. \n",
    "The data will be split into a training and a testing data set and the best depth maximum will be chosen in order to maximise the accuracy.\n",
    "The variables explaining the data set will be a one hot encoding of the types of venues and the variable to be explained will be the the neighborhood.  \n",
    "\n",
    "\n",
    "## 4. Results\n",
    "I will then be able to predict in which neighborhood you're the most likely to find a specific kind of place. The results are then plotted on a map of Paris : the type of venue and the corresponding neighborhood.\n",
    "\n",
    "## 5.Discussion\n",
    "\n",
    "Though we can predecit several results at a time (different request regarding the venues), the map would not be easily readable if we would plot all the results at the same time. To do so we would need fewer data but that would impact the accuracy of our model.\n",
    "\n",
    "Another point that can be discussed is how relevent is the information for someone trying to open a business : would a neighborhood likely to have museums around would be a good place to open one ? Another study could be perform on the impact on concurrence and monopoly on a business.\n",
    "\n",
    "## 6. Conclusion\n",
    "\n",
    "In this project we gathered information about Paris : on its neighborhoods and its venues. The results are satisfying, for instance we predicted that a Greek Restaurant would be more likely to be found in the Temple neighborhood while a Art Gallery would be in the Louvre neighborhood."
   ]
  },
  {
   "cell_type": "code",
   "execution_count": null,
   "metadata": {},
   "outputs": [],
   "source": []
  }
 ],
 "metadata": {
  "kernelspec": {
   "display_name": "Python 3.6",
   "language": "python",
   "name": "python3"
  },
  "language_info": {
   "codemirror_mode": {
    "name": "ipython",
    "version": 3
   },
   "file_extension": ".py",
   "mimetype": "text/x-python",
   "name": "python",
   "nbconvert_exporter": "python",
   "pygments_lexer": "ipython3",
   "version": "3.6.8"
  }
 },
 "nbformat": 4,
 "nbformat_minor": 1
}
